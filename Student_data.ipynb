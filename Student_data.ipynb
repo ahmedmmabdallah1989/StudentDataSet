{
 "cells": [
  {
   "cell_type": "markdown",
   "id": "df004971-37d9-4178-8e5a-c179d12ee9c0",
   "metadata": {},
   "source": [
    "# Student Data Cleaning and EDA\n",
    "\n",
    "This notebook covers data cleaning, missing value handling, and outlier detection for the provided student dataset.\n",
    "\n"
   ]
  },
  {
   "cell_type": "code",
   "execution_count": 1,
   "id": "5a0ee5e6-bfbb-430a-9cf3-8803b531acbe",
   "metadata": {},
   "outputs": [
    {
     "data": {
      "text/html": [
       "<div>\n",
       "<style scoped>\n",
       "    .dataframe tbody tr th:only-of-type {\n",
       "        vertical-align: middle;\n",
       "    }\n",
       "\n",
       "    .dataframe tbody tr th {\n",
       "        vertical-align: top;\n",
       "    }\n",
       "\n",
       "    .dataframe thead th {\n",
       "        text-align: right;\n",
       "    }\n",
       "</style>\n",
       "<table border=\"1\" class=\"dataframe\">\n",
       "  <thead>\n",
       "    <tr style=\"text-align: right;\">\n",
       "      <th></th>\n",
       "      <th>fNAME</th>\n",
       "      <th>lNAME</th>\n",
       "      <th>Age</th>\n",
       "      <th>gender</th>\n",
       "      <th>country</th>\n",
       "      <th>residence</th>\n",
       "      <th>entryEXAM</th>\n",
       "      <th>prevEducation</th>\n",
       "      <th>studyHOURS</th>\n",
       "      <th>Python</th>\n",
       "      <th>DB</th>\n",
       "    </tr>\n",
       "  </thead>\n",
       "  <tbody>\n",
       "    <tr>\n",
       "      <th>0</th>\n",
       "      <td>Christina</td>\n",
       "      <td>Binger</td>\n",
       "      <td>44</td>\n",
       "      <td>Female</td>\n",
       "      <td>Norway</td>\n",
       "      <td>Private</td>\n",
       "      <td>72</td>\n",
       "      <td>Masters</td>\n",
       "      <td>158</td>\n",
       "      <td>59.0</td>\n",
       "      <td>55</td>\n",
       "    </tr>\n",
       "    <tr>\n",
       "      <th>1</th>\n",
       "      <td>Alex</td>\n",
       "      <td>Walekhwa</td>\n",
       "      <td>60</td>\n",
       "      <td>M</td>\n",
       "      <td>Kenya</td>\n",
       "      <td>Private</td>\n",
       "      <td>79</td>\n",
       "      <td>Diploma</td>\n",
       "      <td>150</td>\n",
       "      <td>60.0</td>\n",
       "      <td>75</td>\n",
       "    </tr>\n",
       "    <tr>\n",
       "      <th>2</th>\n",
       "      <td>Philip</td>\n",
       "      <td>Leo</td>\n",
       "      <td>25</td>\n",
       "      <td>Male</td>\n",
       "      <td>Uganda</td>\n",
       "      <td>Sognsvann</td>\n",
       "      <td>55</td>\n",
       "      <td>HighSchool</td>\n",
       "      <td>130</td>\n",
       "      <td>74.0</td>\n",
       "      <td>50</td>\n",
       "    </tr>\n",
       "    <tr>\n",
       "      <th>3</th>\n",
       "      <td>Shoni</td>\n",
       "      <td>Hlongwane</td>\n",
       "      <td>22</td>\n",
       "      <td>F</td>\n",
       "      <td>Rsa</td>\n",
       "      <td>Sognsvann</td>\n",
       "      <td>40</td>\n",
       "      <td>High School</td>\n",
       "      <td>120</td>\n",
       "      <td>NaN</td>\n",
       "      <td>44</td>\n",
       "    </tr>\n",
       "    <tr>\n",
       "      <th>4</th>\n",
       "      <td>Maria</td>\n",
       "      <td>Kedibone</td>\n",
       "      <td>23</td>\n",
       "      <td>Female</td>\n",
       "      <td>South Africa</td>\n",
       "      <td>Sognsvann</td>\n",
       "      <td>65</td>\n",
       "      <td>High School</td>\n",
       "      <td>122</td>\n",
       "      <td>91.0</td>\n",
       "      <td>80</td>\n",
       "    </tr>\n",
       "  </tbody>\n",
       "</table>\n",
       "</div>"
      ],
      "text/plain": [
       "       fNAME      lNAME  Age  gender       country  residence  entryEXAM  \\\n",
       "0  Christina     Binger   44  Female        Norway    Private         72   \n",
       "1       Alex   Walekhwa   60       M         Kenya    Private         79   \n",
       "2     Philip        Leo   25    Male        Uganda  Sognsvann         55   \n",
       "3      Shoni  Hlongwane   22       F           Rsa  Sognsvann         40   \n",
       "4      Maria   Kedibone   23  Female  South Africa  Sognsvann         65   \n",
       "\n",
       "  prevEducation  studyHOURS  Python  DB  \n",
       "0       Masters         158    59.0  55  \n",
       "1       Diploma         150    60.0  75  \n",
       "2    HighSchool         130    74.0  50  \n",
       "3   High School         120     NaN  44  \n",
       "4   High School         122    91.0  80  "
      ]
     },
     "execution_count": 1,
     "metadata": {},
     "output_type": "execute_result"
    }
   ],
   "source": [
    "import pandas as pd\n",
    "import numpy as np\n",
    "import seaborn as sns\n",
    "import matplotlib.pyplot as plt\n",
    "\n",
    "# Load dataset\n",
    "df = pd.read_csv('bi.csv',encoding=\"latin1\") # i have tried multiple encoding until this works \n",
    "df.head()"
   ]
  },
  {
   "cell_type": "markdown",
   "id": "6ee5a5fa-17d4-4192-aa11-222b85fc7f85",
   "metadata": {},
   "source": [
    "## Part 1 – Data Cleaning\n",
    "### Dataset Structure"
   ]
  },
  {
   "cell_type": "code",
   "execution_count": 2,
   "id": "be9b24f5-87ba-4f98-bfe3-ab11f76c656d",
   "metadata": {},
   "outputs": [
    {
     "name": "stdout",
     "output_type": "stream",
     "text": [
      "(77, 11)\n",
      "\n",
      "<class 'pandas.core.frame.DataFrame'>\n",
      "RangeIndex: 77 entries, 0 to 76\n",
      "Data columns (total 11 columns):\n",
      " #   Column         Non-Null Count  Dtype  \n",
      "---  ------         --------------  -----  \n",
      " 0   fNAME          77 non-null     object \n",
      " 1   lNAME          77 non-null     object \n",
      " 2   Age            77 non-null     int64  \n",
      " 3   gender         77 non-null     object \n",
      " 4   country        77 non-null     object \n",
      " 5   residence      77 non-null     object \n",
      " 6   entryEXAM      77 non-null     int64  \n",
      " 7   prevEducation  77 non-null     object \n",
      " 8   studyHOURS     77 non-null     int64  \n",
      " 9   Python         75 non-null     float64\n",
      " 10  DB             77 non-null     int64  \n",
      "dtypes: float64(1), int64(4), object(6)\n",
      "memory usage: 6.7+ KB\n",
      "None\n",
      "\n"
     ]
    },
    {
     "data": {
      "text/html": [
       "<div>\n",
       "<style scoped>\n",
       "    .dataframe tbody tr th:only-of-type {\n",
       "        vertical-align: middle;\n",
       "    }\n",
       "\n",
       "    .dataframe tbody tr th {\n",
       "        vertical-align: top;\n",
       "    }\n",
       "\n",
       "    .dataframe thead th {\n",
       "        text-align: right;\n",
       "    }\n",
       "</style>\n",
       "<table border=\"1\" class=\"dataframe\">\n",
       "  <thead>\n",
       "    <tr style=\"text-align: right;\">\n",
       "      <th></th>\n",
       "      <th>fNAME</th>\n",
       "      <th>lNAME</th>\n",
       "      <th>Age</th>\n",
       "      <th>gender</th>\n",
       "      <th>country</th>\n",
       "      <th>residence</th>\n",
       "      <th>entryEXAM</th>\n",
       "      <th>prevEducation</th>\n",
       "      <th>studyHOURS</th>\n",
       "      <th>Python</th>\n",
       "      <th>DB</th>\n",
       "    </tr>\n",
       "  </thead>\n",
       "  <tbody>\n",
       "    <tr>\n",
       "      <th>count</th>\n",
       "      <td>77</td>\n",
       "      <td>77</td>\n",
       "      <td>77.000000</td>\n",
       "      <td>77</td>\n",
       "      <td>77</td>\n",
       "      <td>77</td>\n",
       "      <td>77.000000</td>\n",
       "      <td>77</td>\n",
       "      <td>77.000000</td>\n",
       "      <td>75.000000</td>\n",
       "      <td>77.000000</td>\n",
       "    </tr>\n",
       "    <tr>\n",
       "      <th>unique</th>\n",
       "      <td>71</td>\n",
       "      <td>66</td>\n",
       "      <td>NaN</td>\n",
       "      <td>6</td>\n",
       "      <td>16</td>\n",
       "      <td>6</td>\n",
       "      <td>NaN</td>\n",
       "      <td>10</td>\n",
       "      <td>NaN</td>\n",
       "      <td>NaN</td>\n",
       "      <td>NaN</td>\n",
       "    </tr>\n",
       "    <tr>\n",
       "      <th>top</th>\n",
       "      <td>Grethe</td>\n",
       "      <td>Olsen</td>\n",
       "      <td>NaN</td>\n",
       "      <td>Female</td>\n",
       "      <td>Norway</td>\n",
       "      <td>Private</td>\n",
       "      <td>NaN</td>\n",
       "      <td>Bachelors</td>\n",
       "      <td>NaN</td>\n",
       "      <td>NaN</td>\n",
       "      <td>NaN</td>\n",
       "    </tr>\n",
       "    <tr>\n",
       "      <th>freq</th>\n",
       "      <td>2</td>\n",
       "      <td>2</td>\n",
       "      <td>NaN</td>\n",
       "      <td>41</td>\n",
       "      <td>47</td>\n",
       "      <td>33</td>\n",
       "      <td>NaN</td>\n",
       "      <td>24</td>\n",
       "      <td>NaN</td>\n",
       "      <td>NaN</td>\n",
       "      <td>NaN</td>\n",
       "    </tr>\n",
       "    <tr>\n",
       "      <th>mean</th>\n",
       "      <td>NaN</td>\n",
       "      <td>NaN</td>\n",
       "      <td>35.207792</td>\n",
       "      <td>NaN</td>\n",
       "      <td>NaN</td>\n",
       "      <td>NaN</td>\n",
       "      <td>76.753247</td>\n",
       "      <td>NaN</td>\n",
       "      <td>149.714286</td>\n",
       "      <td>75.853333</td>\n",
       "      <td>69.467532</td>\n",
       "    </tr>\n",
       "    <tr>\n",
       "      <th>std</th>\n",
       "      <td>NaN</td>\n",
       "      <td>NaN</td>\n",
       "      <td>10.341966</td>\n",
       "      <td>NaN</td>\n",
       "      <td>NaN</td>\n",
       "      <td>NaN</td>\n",
       "      <td>16.475784</td>\n",
       "      <td>NaN</td>\n",
       "      <td>12.743272</td>\n",
       "      <td>15.410328</td>\n",
       "      <td>17.033701</td>\n",
       "    </tr>\n",
       "    <tr>\n",
       "      <th>min</th>\n",
       "      <td>NaN</td>\n",
       "      <td>NaN</td>\n",
       "      <td>21.000000</td>\n",
       "      <td>NaN</td>\n",
       "      <td>NaN</td>\n",
       "      <td>NaN</td>\n",
       "      <td>28.000000</td>\n",
       "      <td>NaN</td>\n",
       "      <td>114.000000</td>\n",
       "      <td>15.000000</td>\n",
       "      <td>30.000000</td>\n",
       "    </tr>\n",
       "    <tr>\n",
       "      <th>25%</th>\n",
       "      <td>NaN</td>\n",
       "      <td>NaN</td>\n",
       "      <td>27.000000</td>\n",
       "      <td>NaN</td>\n",
       "      <td>NaN</td>\n",
       "      <td>NaN</td>\n",
       "      <td>69.000000</td>\n",
       "      <td>NaN</td>\n",
       "      <td>144.000000</td>\n",
       "      <td>71.000000</td>\n",
       "      <td>56.000000</td>\n",
       "    </tr>\n",
       "    <tr>\n",
       "      <th>50%</th>\n",
       "      <td>NaN</td>\n",
       "      <td>NaN</td>\n",
       "      <td>33.000000</td>\n",
       "      <td>NaN</td>\n",
       "      <td>NaN</td>\n",
       "      <td>NaN</td>\n",
       "      <td>80.000000</td>\n",
       "      <td>NaN</td>\n",
       "      <td>156.000000</td>\n",
       "      <td>81.000000</td>\n",
       "      <td>71.000000</td>\n",
       "    </tr>\n",
       "    <tr>\n",
       "      <th>75%</th>\n",
       "      <td>NaN</td>\n",
       "      <td>NaN</td>\n",
       "      <td>42.000000</td>\n",
       "      <td>NaN</td>\n",
       "      <td>NaN</td>\n",
       "      <td>NaN</td>\n",
       "      <td>90.000000</td>\n",
       "      <td>NaN</td>\n",
       "      <td>158.000000</td>\n",
       "      <td>85.000000</td>\n",
       "      <td>83.000000</td>\n",
       "    </tr>\n",
       "    <tr>\n",
       "      <th>max</th>\n",
       "      <td>NaN</td>\n",
       "      <td>NaN</td>\n",
       "      <td>71.000000</td>\n",
       "      <td>NaN</td>\n",
       "      <td>NaN</td>\n",
       "      <td>NaN</td>\n",
       "      <td>98.000000</td>\n",
       "      <td>NaN</td>\n",
       "      <td>160.000000</td>\n",
       "      <td>91.000000</td>\n",
       "      <td>100.000000</td>\n",
       "    </tr>\n",
       "  </tbody>\n",
       "</table>\n",
       "</div>"
      ],
      "text/plain": [
       "         fNAME  lNAME        Age  gender country residence  entryEXAM  \\\n",
       "count       77     77  77.000000      77      77        77  77.000000   \n",
       "unique      71     66        NaN       6      16         6        NaN   \n",
       "top     Grethe  Olsen        NaN  Female  Norway   Private        NaN   \n",
       "freq         2      2        NaN      41      47        33        NaN   \n",
       "mean       NaN    NaN  35.207792     NaN     NaN       NaN  76.753247   \n",
       "std        NaN    NaN  10.341966     NaN     NaN       NaN  16.475784   \n",
       "min        NaN    NaN  21.000000     NaN     NaN       NaN  28.000000   \n",
       "25%        NaN    NaN  27.000000     NaN     NaN       NaN  69.000000   \n",
       "50%        NaN    NaN  33.000000     NaN     NaN       NaN  80.000000   \n",
       "75%        NaN    NaN  42.000000     NaN     NaN       NaN  90.000000   \n",
       "max        NaN    NaN  71.000000     NaN     NaN       NaN  98.000000   \n",
       "\n",
       "       prevEducation  studyHOURS     Python          DB  \n",
       "count             77   77.000000  75.000000   77.000000  \n",
       "unique            10         NaN        NaN         NaN  \n",
       "top        Bachelors         NaN        NaN         NaN  \n",
       "freq              24         NaN        NaN         NaN  \n",
       "mean             NaN  149.714286  75.853333   69.467532  \n",
       "std              NaN   12.743272  15.410328   17.033701  \n",
       "min              NaN  114.000000  15.000000   30.000000  \n",
       "25%              NaN  144.000000  71.000000   56.000000  \n",
       "50%              NaN  156.000000  81.000000   71.000000  \n",
       "75%              NaN  158.000000  85.000000   83.000000  \n",
       "max              NaN  160.000000  91.000000  100.000000  "
      ]
     },
     "execution_count": 2,
     "metadata": {},
     "output_type": "execute_result"
    }
   ],
   "source": [
    "print(df.shape)\n",
    "print()\n",
    "print(df.info())\n",
    "print()\n",
    "df.describe(include='all')"
   ]
  },
  {
   "cell_type": "markdown",
   "id": "459f9f2c-dfb2-4db2-a872-c2433e15ade0",
   "metadata": {},
   "source": [
    "### Question: Which columns should be categorical and which should be numerical?\n",
    "\n",
    "**Categorical Columns:**  \n",
    "- fNAME, lNAME, gender, country, residence, prevEducation  \n",
    "\n",
    "**Numerical Columns:**  \n",
    "- Age, entryEXAM, studyHOURS, Python, DB  "
   ]
  },
  {
   "cell_type": "markdown",
   "id": "34ce38ce-76df-462d-9c9e-807d65c3998e",
   "metadata": {},
   "source": [
    "### Detect and Fix Inconsistent Categories"
   ]
  },
  {
   "cell_type": "code",
   "execution_count": 3,
   "id": "ceb7b3b7-7c54-4882-a335-7a33900ee565",
   "metadata": {},
   "outputs": [
    {
     "name": "stdout",
     "output_type": "stream",
     "text": [
      "['Female' 'M' 'Male' 'F' 'female' 'male']\n",
      "['Norway' 'Kenya' 'Uganda' 'Rsa' 'South Africa' 'Norge' 'norway' 'Denmark'\n",
      " 'Netherlands' 'Italy' 'Spain' 'UK' 'Somali' 'Nigeria' 'Germany' 'France']\n",
      "['Masters' 'Diploma' 'HighSchool' 'High School' 'Bachelors' 'Barrrchelors'\n",
      " 'diploma' 'DIPLOMA' 'Diplomaaa' 'Doctorate']\n"
     ]
    }
   ],
   "source": [
    "print(df['gender'].unique())\n",
    "print(df['country'].unique())\n",
    "print(df['prevEducation'].unique())\n"
   ]
  },
  {
   "cell_type": "code",
   "execution_count": 4,
   "id": "593a9891-7840-48ac-bd86-8145a3b1cafe",
   "metadata": {},
   "outputs": [
    {
     "data": {
      "text/plain": [
       "array(['Female', 'Male'], dtype=object)"
      ]
     },
     "execution_count": 4,
     "metadata": {},
     "output_type": "execute_result"
    }
   ],
   "source": [
    "# Standardize gender\n",
    "\n",
    "df[\"gender\"] = df[\"gender\"].str.strip().str.lower()\n",
    "df['gender'].unique()\n",
    "df[\"gender\"] = df[\"gender\"].replace({\n",
    "    \"f\": \"Female\",\n",
    "    \"female\": \"Female\",\n",
    "    \"m\": \"Male\",\n",
    "    \"male\": \"Male\"\n",
    "})\n",
    "df['gender'].unique()"
   ]
  },
  {
   "cell_type": "code",
   "execution_count": 5,
   "id": "4520ef91-f74d-466a-b7a0-a4e9d019d372",
   "metadata": {},
   "outputs": [
    {
     "data": {
      "text/plain": [
       "array(['Norway', 'Kenya', 'Uganda', 'South Africa', 'Denmark',\n",
       "       'Netherlands', 'Italy', 'Spain', 'United Kingdom', 'Somalia',\n",
       "       'Nigeria', 'Germany', 'France'], dtype=object)"
      ]
     },
     "execution_count": 5,
     "metadata": {},
     "output_type": "execute_result"
    }
   ],
   "source": [
    "# Standardize country\n",
    "\n",
    "df[\"country\"] = df[\"country\"].str.strip().str.title()\n",
    "df[\"country\"].unique()\n",
    "\n",
    "df[\"country\"] = df[\"country\"].replace({\n",
    "    \"Norge\": \"Norway\",\n",
    "    \"Rsa\": \"South Africa\",\n",
    "    \"Uk\": \"United Kingdom\",\n",
    "    \"Somali\": \"Somalia\"\n",
    "})\n",
    "df[\"country\"].unique()"
   ]
  },
  {
   "cell_type": "code",
   "execution_count": 6,
   "id": "54c06f91-7ca9-416c-b069-6dfd1bf002e4",
   "metadata": {},
   "outputs": [
    {
     "data": {
      "text/plain": [
       "array(['Masters', 'Diploma', 'High School', 'Bachelors', 'Doctorate'],\n",
       "      dtype=object)"
      ]
     },
     "execution_count": 6,
     "metadata": {},
     "output_type": "execute_result"
    }
   ],
   "source": [
    "# Fix prevEducation typos\n",
    "\n",
    "df[\"prevEducation\"] = df[\"prevEducation\"].str.strip().str.title()\n",
    "\n",
    "# Fix typos and variations\n",
    "df[\"prevEducation\"] = df[\"prevEducation\"].replace({\n",
    "    \"HighSchool\": \"High School\",\n",
    "    \"Highschool\": \"High School\",\n",
    "    \"High School\": \"High School\",\n",
    "    \"diploma\": \"Diploma\",\n",
    "    \"DIPLOMA\": \"Diploma\",\n",
    "    \"Diplomaaa\": \"Diploma\",\n",
    "    \"Barrrchelors\": \"Bachelors\",\n",
    "    \"Bachelors\": \"Bachelors\",\n",
    "    \"Masters\": \"Masters\",\n",
    "    \"Doctorate\": \"Doctorate\"\n",
    "})\n",
    "\n",
    "df[\"prevEducation\"].unique()"
   ]
  },
  {
   "cell_type": "code",
   "execution_count": 7,
   "id": "c0a93313-a14c-4f2a-ae70-65b1e3a2b740",
   "metadata": {},
   "outputs": [
    {
     "data": {
      "text/html": [
       "<div>\n",
       "<style scoped>\n",
       "    .dataframe tbody tr th:only-of-type {\n",
       "        vertical-align: middle;\n",
       "    }\n",
       "\n",
       "    .dataframe tbody tr th {\n",
       "        vertical-align: top;\n",
       "    }\n",
       "\n",
       "    .dataframe thead th {\n",
       "        text-align: right;\n",
       "    }\n",
       "</style>\n",
       "<table border=\"1\" class=\"dataframe\">\n",
       "  <thead>\n",
       "    <tr style=\"text-align: right;\">\n",
       "      <th></th>\n",
       "      <th>gender</th>\n",
       "      <th>country</th>\n",
       "      <th>prevEducation</th>\n",
       "    </tr>\n",
       "  </thead>\n",
       "  <tbody>\n",
       "    <tr>\n",
       "      <th>0</th>\n",
       "      <td>Female</td>\n",
       "      <td>Norway</td>\n",
       "      <td>Masters</td>\n",
       "    </tr>\n",
       "    <tr>\n",
       "      <th>1</th>\n",
       "      <td>Male</td>\n",
       "      <td>Kenya</td>\n",
       "      <td>Diploma</td>\n",
       "    </tr>\n",
       "    <tr>\n",
       "      <th>2</th>\n",
       "      <td>Male</td>\n",
       "      <td>Uganda</td>\n",
       "      <td>High School</td>\n",
       "    </tr>\n",
       "    <tr>\n",
       "      <th>3</th>\n",
       "      <td>Female</td>\n",
       "      <td>South Africa</td>\n",
       "      <td>High School</td>\n",
       "    </tr>\n",
       "    <tr>\n",
       "      <th>4</th>\n",
       "      <td>Female</td>\n",
       "      <td>South Africa</td>\n",
       "      <td>High School</td>\n",
       "    </tr>\n",
       "  </tbody>\n",
       "</table>\n",
       "</div>"
      ],
      "text/plain": [
       "   gender       country prevEducation\n",
       "0  Female        Norway       Masters\n",
       "1    Male         Kenya       Diploma\n",
       "2    Male        Uganda   High School\n",
       "3  Female  South Africa   High School\n",
       "4  Female  South Africa   High School"
      ]
     },
     "execution_count": 7,
     "metadata": {},
     "output_type": "execute_result"
    }
   ],
   "source": [
    "df[['gender','country','prevEducation']].head()"
   ]
  },
  {
   "cell_type": "markdown",
   "id": "a2a4d139-d2d2-40cb-b57a-4b30e461a3e2",
   "metadata": {},
   "source": [
    "### Handle Duplicates"
   ]
  },
  {
   "cell_type": "code",
   "execution_count": 9,
   "id": "34e4f7ce-4622-4402-9308-b20ee46c0769",
   "metadata": {},
   "outputs": [
    {
     "name": "stdout",
     "output_type": "stream",
     "text": [
      "Duplicates: 0\n"
     ]
    }
   ],
   "source": [
    "print('Duplicates:', df.duplicated().sum())\n",
    "df = df.drop_duplicates()\n"
   ]
  },
  {
   "cell_type": "markdown",
   "id": "25279e25-e669-43ca-9501-00584c923a63",
   "metadata": {},
   "source": [
    "\n",
    "## Part 2 – Missing Data\n"
   ]
  },
  {
   "cell_type": "code",
   "execution_count": 10,
   "id": "5e1b5d6e-72e2-458d-9d9a-94fc49c3baf0",
   "metadata": {},
   "outputs": [
    {
     "data": {
      "text/plain": [
       "fNAME            0\n",
       "lNAME            0\n",
       "Age              0\n",
       "gender           0\n",
       "country          0\n",
       "residence        0\n",
       "entryEXAM        0\n",
       "prevEducation    0\n",
       "studyHOURS       0\n",
       "Python           2\n",
       "DB               0\n",
       "dtype: int64"
      ]
     },
     "execution_count": 10,
     "metadata": {},
     "output_type": "execute_result"
    }
   ],
   "source": [
    "df.isnull().sum()\n"
   ]
  },
  {
   "cell_type": "code",
   "execution_count": 11,
   "id": "acbbb1ad-9dc3-4380-9585-811e9a235f84",
   "metadata": {},
   "outputs": [
    {
     "data": {
      "text/html": [
       "<div>\n",
       "<style scoped>\n",
       "    .dataframe tbody tr th:only-of-type {\n",
       "        vertical-align: middle;\n",
       "    }\n",
       "\n",
       "    .dataframe tbody tr th {\n",
       "        vertical-align: top;\n",
       "    }\n",
       "\n",
       "    .dataframe thead th {\n",
       "        text-align: right;\n",
       "    }\n",
       "</style>\n",
       "<table border=\"1\" class=\"dataframe\">\n",
       "  <thead>\n",
       "    <tr style=\"text-align: right;\">\n",
       "      <th></th>\n",
       "      <th>fNAME</th>\n",
       "      <th>lNAME</th>\n",
       "      <th>Age</th>\n",
       "      <th>gender</th>\n",
       "      <th>country</th>\n",
       "      <th>residence</th>\n",
       "      <th>entryEXAM</th>\n",
       "      <th>prevEducation</th>\n",
       "      <th>studyHOURS</th>\n",
       "      <th>Python</th>\n",
       "      <th>DB</th>\n",
       "    </tr>\n",
       "  </thead>\n",
       "  <tbody>\n",
       "    <tr>\n",
       "      <th>0</th>\n",
       "      <td>Christina</td>\n",
       "      <td>Binger</td>\n",
       "      <td>44</td>\n",
       "      <td>Female</td>\n",
       "      <td>Norway</td>\n",
       "      <td>Private</td>\n",
       "      <td>72</td>\n",
       "      <td>Masters</td>\n",
       "      <td>158</td>\n",
       "      <td>59.0</td>\n",
       "      <td>55</td>\n",
       "    </tr>\n",
       "    <tr>\n",
       "      <th>1</th>\n",
       "      <td>Alex</td>\n",
       "      <td>Walekhwa</td>\n",
       "      <td>60</td>\n",
       "      <td>Male</td>\n",
       "      <td>Kenya</td>\n",
       "      <td>Private</td>\n",
       "      <td>79</td>\n",
       "      <td>Diploma</td>\n",
       "      <td>150</td>\n",
       "      <td>60.0</td>\n",
       "      <td>75</td>\n",
       "    </tr>\n",
       "    <tr>\n",
       "      <th>2</th>\n",
       "      <td>Philip</td>\n",
       "      <td>Leo</td>\n",
       "      <td>25</td>\n",
       "      <td>Male</td>\n",
       "      <td>Uganda</td>\n",
       "      <td>Sognsvann</td>\n",
       "      <td>55</td>\n",
       "      <td>High School</td>\n",
       "      <td>130</td>\n",
       "      <td>74.0</td>\n",
       "      <td>50</td>\n",
       "    </tr>\n",
       "    <tr>\n",
       "      <th>3</th>\n",
       "      <td>Shoni</td>\n",
       "      <td>Hlongwane</td>\n",
       "      <td>22</td>\n",
       "      <td>Female</td>\n",
       "      <td>South Africa</td>\n",
       "      <td>Sognsvann</td>\n",
       "      <td>40</td>\n",
       "      <td>High School</td>\n",
       "      <td>120</td>\n",
       "      <td>NaN</td>\n",
       "      <td>44</td>\n",
       "    </tr>\n",
       "    <tr>\n",
       "      <th>4</th>\n",
       "      <td>Maria</td>\n",
       "      <td>Kedibone</td>\n",
       "      <td>23</td>\n",
       "      <td>Female</td>\n",
       "      <td>South Africa</td>\n",
       "      <td>Sognsvann</td>\n",
       "      <td>65</td>\n",
       "      <td>High School</td>\n",
       "      <td>122</td>\n",
       "      <td>91.0</td>\n",
       "      <td>80</td>\n",
       "    </tr>\n",
       "    <tr>\n",
       "      <th>...</th>\n",
       "      <td>...</td>\n",
       "      <td>...</td>\n",
       "      <td>...</td>\n",
       "      <td>...</td>\n",
       "      <td>...</td>\n",
       "      <td>...</td>\n",
       "      <td>...</td>\n",
       "      <td>...</td>\n",
       "      <td>...</td>\n",
       "      <td>...</td>\n",
       "      <td>...</td>\n",
       "    </tr>\n",
       "    <tr>\n",
       "      <th>72</th>\n",
       "      <td>Clara</td>\n",
       "      <td>Bernard</td>\n",
       "      <td>43</td>\n",
       "      <td>Female</td>\n",
       "      <td>France</td>\n",
       "      <td>Private</td>\n",
       "      <td>80</td>\n",
       "      <td>Bachelors</td>\n",
       "      <td>150</td>\n",
       "      <td>75.0</td>\n",
       "      <td>43</td>\n",
       "    </tr>\n",
       "    <tr>\n",
       "      <th>73</th>\n",
       "      <td>Julian</td>\n",
       "      <td>Nielsen</td>\n",
       "      <td>31</td>\n",
       "      <td>Male</td>\n",
       "      <td>Denmark</td>\n",
       "      <td>Sognsvann</td>\n",
       "      <td>90</td>\n",
       "      <td>Masters</td>\n",
       "      <td>158</td>\n",
       "      <td>84.0</td>\n",
       "      <td>83</td>\n",
       "    </tr>\n",
       "    <tr>\n",
       "      <th>74</th>\n",
       "      <td>Sophie</td>\n",
       "      <td>Brown</td>\n",
       "      <td>33</td>\n",
       "      <td>Female</td>\n",
       "      <td>United Kingdom</td>\n",
       "      <td>Sognsvann</td>\n",
       "      <td>96</td>\n",
       "      <td>Masters</td>\n",
       "      <td>158</td>\n",
       "      <td>85.0</td>\n",
       "      <td>90</td>\n",
       "    </tr>\n",
       "    <tr>\n",
       "      <th>75</th>\n",
       "      <td>Leon</td>\n",
       "      <td>Bauer</td>\n",
       "      <td>35</td>\n",
       "      <td>Male</td>\n",
       "      <td>Germany</td>\n",
       "      <td>Sognsvann</td>\n",
       "      <td>90</td>\n",
       "      <td>Masters</td>\n",
       "      <td>160</td>\n",
       "      <td>87.0</td>\n",
       "      <td>74</td>\n",
       "    </tr>\n",
       "    <tr>\n",
       "      <th>76</th>\n",
       "      <td>Mohammed</td>\n",
       "      <td>Salim</td>\n",
       "      <td>31</td>\n",
       "      <td>Male</td>\n",
       "      <td>Somalia</td>\n",
       "      <td>Sognsvann</td>\n",
       "      <td>35</td>\n",
       "      <td>Masters</td>\n",
       "      <td>144</td>\n",
       "      <td>72.0</td>\n",
       "      <td>90</td>\n",
       "    </tr>\n",
       "  </tbody>\n",
       "</table>\n",
       "<p>77 rows × 11 columns</p>\n",
       "</div>"
      ],
      "text/plain": [
       "        fNAME      lNAME  Age  gender         country  residence  entryEXAM  \\\n",
       "0   Christina     Binger   44  Female          Norway    Private         72   \n",
       "1        Alex   Walekhwa   60    Male           Kenya    Private         79   \n",
       "2      Philip        Leo   25    Male          Uganda  Sognsvann         55   \n",
       "3       Shoni  Hlongwane   22  Female    South Africa  Sognsvann         40   \n",
       "4       Maria   Kedibone   23  Female    South Africa  Sognsvann         65   \n",
       "..        ...        ...  ...     ...             ...        ...        ...   \n",
       "72      Clara    Bernard   43  Female          France    Private         80   \n",
       "73     Julian    Nielsen   31    Male         Denmark  Sognsvann         90   \n",
       "74     Sophie      Brown   33  Female  United Kingdom  Sognsvann         96   \n",
       "75       Leon      Bauer   35    Male         Germany  Sognsvann         90   \n",
       "76   Mohammed      Salim   31    Male         Somalia  Sognsvann         35   \n",
       "\n",
       "   prevEducation  studyHOURS  Python  DB  \n",
       "0        Masters         158    59.0  55  \n",
       "1        Diploma         150    60.0  75  \n",
       "2    High School         130    74.0  50  \n",
       "3    High School         120     NaN  44  \n",
       "4    High School         122    91.0  80  \n",
       "..           ...         ...     ...  ..  \n",
       "72     Bachelors         150    75.0  43  \n",
       "73       Masters         158    84.0  83  \n",
       "74       Masters         158    85.0  90  \n",
       "75       Masters         160    87.0  74  \n",
       "76       Masters         144    72.0  90  \n",
       "\n",
       "[77 rows x 11 columns]"
      ]
     },
     "execution_count": 11,
     "metadata": {},
     "output_type": "execute_result"
    }
   ],
   "source": [
    "df"
   ]
  },
  {
   "cell_type": "markdown",
   "id": "69da402b-68ce-4f7c-8c27-8a2d13b20a25",
   "metadata": {},
   "source": [
    "# Question: Which columns are most affected by missing values?\n",
    "\n",
    "**Answer** : The Python column is the most affected by missing values."
   ]
  },
  {
   "cell_type": "code",
   "execution_count": 12,
   "id": "20e7a84d-5837-44ec-8db9-4b444fba11f8",
   "metadata": {},
   "outputs": [
    {
     "data": {
      "text/plain": [
       "fNAME            0\n",
       "lNAME            0\n",
       "Age              0\n",
       "gender           0\n",
       "country          0\n",
       "residence        0\n",
       "entryEXAM        0\n",
       "prevEducation    0\n",
       "studyHOURS       0\n",
       "Python           0\n",
       "DB               0\n",
       "dtype: int64"
      ]
     },
     "execution_count": 12,
     "metadata": {},
     "output_type": "execute_result"
    }
   ],
   "source": [
    "# Fill missing numerical values with mean\n",
    "df['Python'] = df['Python'].fillna(df['Python'].mean())\n",
    "\n",
    "\n",
    "# Fill categorical with mode \n",
    "for col in ['gender','country']:\n",
    "    if df[col].isnull().sum() > 0:\n",
    "        df[col] = df[col].fillna(df[col].mode()[0])\n",
    "\n",
    "df.isnull().sum()"
   ]
  },
  {
   "cell_type": "markdown",
   "id": "4400af70-f818-4a53-828a-bf7c4ab97f70",
   "metadata": {},
   "source": [
    "## Part 3 – Outliers"
   ]
  },
  {
   "cell_type": "code",
   "execution_count": 13,
   "id": "b30ac315-5207-4c77-ac2e-cc79bc1779d3",
   "metadata": {},
   "outputs": [
    {
     "data": {
      "image/png": "[encoded data removed]",
      "text/plain": [
       "<Figure size 640x480 with 1 Axes>"
      ]
     },
     "metadata": {},
     "output_type": "display_data"
    },
    {
     "data": {
      "image/png": "[encoded data removed]",
      "text/plain": [
       "<Figure size 640x480 with 1 Axes>"
      ]
     },
     "metadata": {},
     "output_type": "display_data"
    },
    {
     "data": {
      "image/png": "[encoded data removed]",
      "text/plain": [
       "<Figure size 640x480 with 1 Axes>"
      ]
     },
     "metadata": {},
     "output_type": "display_data"
    }
   ],
   "source": [
    "sns.boxplot(x=df['studyHOURS'])\n",
    "plt.show()\n",
    "sns.boxplot(x=df['Python'])\n",
    "plt.show()\n",
    "sns.boxplot(x=df['DB'])\n",
    "plt.show()"
   ]
  },
  {
   "cell_type": "code",
   "execution_count": 21,
   "id": "53bb4e0d-04ef-4765-95f3-ed16fe34923c",
   "metadata": {},
   "outputs": [
    {
     "data": {
      "text/plain": [
       "(77, 11)"
      ]
     },
     "execution_count": 21,
     "metadata": {},
     "output_type": "execute_result"
    }
   ],
   "source": [
    "# Remove unrealistic scores (<0 or >100)\n",
    "df = df[(df['Python'].between(0,100)) & (df['DB'].between(0,100))]\n",
    "\n",
    "df.shape"
   ]
  },
  {
   "cell_type": "code",
   "execution_count": 22,
   "id": "02ed03be-c8f4-412b-90a0-951e0e4bdccc",
   "metadata": {},
   "outputs": [
    {
     "data": {
      "text/plain": [
       "(70, 11)"
      ]
     },
     "execution_count": 22,
     "metadata": {},
     "output_type": "execute_result"
    }
   ],
   "source": [
    "# IQR method for studyHOURS\n",
    "Q1 = df['studyHOURS'].quantile(0.25)\n",
    "Q3 = df['studyHOURS'].quantile(0.75)\n",
    "IQR = Q3 - Q1\n",
    "lower_bound = Q1 - 1.5*IQR\n",
    "upper_bound = Q3 + 1.5*IQR\n",
    "df = df[(df['studyHOURS'] >= lower_bound) & (df['studyHOURS'] <= upper_bound)]\n"
   ]
  },
  {
   "cell_type": "code",
   "execution_count": 25,
   "id": "017396b3-56b6-44e4-9539-8771b3fdf665",
   "metadata": {},
   "outputs": [
    {
     "data": {
      "text/plain": [
       "(70, 11)"
      ]
     },
     "execution_count": 25,
     "metadata": {},
     "output_type": "execute_result"
    }
   ],
   "source": [
    "df.shape\n",
    "\n"
   ]
  },
  {
   "cell_type": "markdown",
   "id": "31ab6efd-d32e-4948-a699-c9d2cdac18b3",
   "metadata": {},
   "source": [
    "## Save Cleaned Dataset"
   ]
  },
  {
   "cell_type": "code",
   "execution_count": 26,
   "id": "56f4887d-3519-4a22-b76c-855931bf8fdb",
   "metadata": {},
   "outputs": [],
   "source": [
    "df.to_csv('cleaned_students.csv', index=False)"
   ]
  },
  {
   "cell_type": "markdown",
   "id": "3ba2b74c-9f67-4269-b6b1-691624bd6956",
   "metadata": {},
   "source": [
    "#  Data Cleaning and Preprocessing Report\n",
    "\n",
    "## 1. Inconsistencies Found and Fixes\n",
    "\n",
    "- **Gender column**  \n",
    "  - Issues: Mixed formats such as `['Female', 'M', 'Male', 'F', 'female', 'male']`.  \n",
    "  - Fix: Standardized values using `.str.lower()`, `.str.strip()`, and `.replace()` into two categories:  \n",
    "    - `Male`  \n",
    "    - `Female`\n",
    "\n",
    "- **Country column**  \n",
    "  - Issues: Mixed cases and abbreviations such as `['Norway', 'Rsa', 'Norge', 'norway', 'UK', 'Somali']`.  \n",
    "  - Fix: Normalized with `.str.title()` and replaced known inconsistencies:  \n",
    "    - `Rsa → South Africa`  \n",
    "    - `Norge/norway → Norway`  \n",
    "    - `UK → United Kingdom`  \n",
    "    - `Somali → Somalia`\n",
    "\n",
    "- **Previous Education column**  \n",
    "  - Issues: Typos and inconsistent formatting such as `['HighSchool', 'Barrrchelors', 'diploma', 'DIPLOMA', 'Diplomaaa']`.  \n",
    "  - Fix: Standardized values with `.str.title()` and replacements:  \n",
    "    - `HighSchool → High School`  \n",
    "    - `diploma/DIPLOMA/Diplomaaa → Diploma`  \n",
    "    - `Barrrchelors → Bachelors`  \n",
    "  - Final categories: `High School, Diploma, Bachelors, Masters, Doctorate`\n",
    "\n",
    "- **Duplicates**  \n",
    "  - Checked using `df.duplicated().sum()`.  \n",
    "  - Duplicates were dropped with `df.drop_duplicates()`.  \n",
    "\n",
    "---\n",
    "\n",
    "## 2. Handling Missing Values\n",
    "\n",
    "- **Inspection**:  \n",
    "  - Found missing values using `df.isnull().sum()`.  \n",
    "  - Only the **Python column** had 2 missing values.  \n",
    "\n",
    "- **Strategy**:  \n",
    "  - For numerical columns (Python, DB), mean or median imputation is appropriate.  \n",
    "  - For this dataset, the **mean** was chosen for Python scores because it is more robust to outliers.  \n",
    "\n",
    "---\n",
    "\n",
    "## 3. Outlier Detection and Treatment\n",
    "\n",
    "- **Detection**:  \n",
    "  - Used boxplots (`sns.boxplot`) and summary statistics (`df.describe()`).  \n",
    "  - Checked study hours and scores for unrealistic values (<0 or >100).  \n",
    "\n",
    "- **Findings**:  \n",
    "  - No values below 0.  \n",
    "  - A few values above 100 in study hours were flagged as unrealistic.  \n",
    "\n",
    "- **Treatment**:  \n",
    "  - Applied the **IQR method** to detect and remove extreme outliers.  \n",
    "  - Example code:  \n",
    "    ```python\n",
    "    Q1 = df[\"studyHOURS\"].quantile(0.25)\n",
    "    Q3 = df[\"studyHOURS\"].quantile(0.75)\n",
    "    IQR = Q3 - Q1\n",
    "    df = df[~((df[\"studyHOURS\"] < (Q1 - 1.5*IQR)) | (df[\"studyHOURS\"] > (Q3 + 1.5*IQR)))]\n",
    "    ```\n",
    "\n",
    "---\n"
   ]
  }
 ],
 "metadata": {
  "kernelspec": {
   "display_name": "Python 3 (ipykernel)",
   "language": "python",
   "name": "python3"
  },
  "language_info": {
   "codemirror_mode": {
    "name": "ipython",
    "version": 3
   },
   "file_extension": ".py",
   "mimetype": "text/x-python",
   "name": "python",
   "nbconvert_exporter": "python",
   "pygments_lexer": "ipython3",
   "version": "3.13.5"
  }
 },
 "nbformat": 4,
 "nbformat_minor": 5
}
